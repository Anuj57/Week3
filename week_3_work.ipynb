{
  "nbformat": 4,
  "nbformat_minor": 0,
  "metadata": {
    "colab": {
      "provenance": [],
      "authorship_tag": "ABX9TyNsIgqImi/iNiC6h2hupb9S",
      "include_colab_link": true
    },
    "kernelspec": {
      "name": "python3",
      "display_name": "Python 3"
    },
    "language_info": {
      "name": "python"
    }
  },
  "cells": [
    {
      "cell_type": "markdown",
      "metadata": {
        "id": "view-in-github",
        "colab_type": "text"
      },
      "source": [
        "<a href=\"https://colab.research.google.com/github/Anuj57/Week3/blob/main/week_3_work.ipynb\" target=\"_parent\"><img src=\"https://colab.research.google.com/assets/colab-badge.svg\" alt=\"Open In Colab\"/></a>"
      ]
    },
    {
      "cell_type": "markdown",
      "source": [
        "#Section A"
      ],
      "metadata": {
        "id": "3iUyMf_cqTdL"
      }
    },
    {
      "cell_type": "code",
      "source": [
        "#1 Create a function that takes three arguments a, b, c and returns the sum of the1020\n",
        "#1102numbers that are evenly divided by c from the range a, b inclusive.\n",
        "def sumDivisibles(A, B, C):\n",
        "    sum = 0\n",
        "\n",
        "    for i in range(A, B + 1):\n",
        " \n",
        "        if (i % C == 0):\n",
        "            sum += i\n",
        " \n",
        "    return sum\n",
        "\n",
        "     \n",
        "A = int(input(\"Enter value of A =\"))\n",
        "B = int(input(\"Enter value of B =\"))\n",
        "C = int(input(\"Enter value of C =\"))\n",
        " \n",
        "print(sumDivisibles(A, B, C))\n",
        " \n",
        "\n",
        " "
      ],
      "metadata": {
        "id": "IBmPni8CdNLV",
        "colab": {
          "base_uri": "https://localhost:8080/"
        },
        "outputId": "8011f501-c6b9-495c-82ca-7d58830a0000"
      },
      "execution_count": null,
      "outputs": [
        {
          "output_type": "stream",
          "name": "stdout",
          "text": [
            "Enter value of A =1\n",
            "Enter value of B =10\n",
            "Enter value of C =2\n",
            "30\n"
          ]
        }
      ]
    },
    {
      "cell_type": "code",
      "source": [
        "#2 Create a function that returns True if a given inequality expression is correct and False otherwise.\n",
        "def check(s):\n",
        "    x=eval(s)\n",
        "    if x:\n",
        "        return True\n",
        "    else:\n",
        "     return False \n",
        "\n",
        "print(check(\"5 < 7 < 20\"))\n",
        "print(check(\"30 > 40 > 20 > 10\"))\n",
        "print(check(\"14 < 6 < 8 < 12 > 5\"))"
      ],
      "metadata": {
        "id": "ttvPP_TLk37a",
        "colab": {
          "base_uri": "https://localhost:8080/"
        },
        "outputId": "3b559fd8-1e3b-4779-f513-da34b845542e"
      },
      "execution_count": null,
      "outputs": [
        {
          "output_type": "stream",
          "name": "stdout",
          "text": [
            "True\n",
            "False\n",
            "False\n"
          ]
        }
      ]
    },
    {
      "cell_type": "code",
      "source": [
        "#3 Create a function that replaces all the vowels in a string with a specified character.\n",
        "def replaceVowels(str, K):\n",
        "    vowels = 'AEIOUaeiou'\n",
        "    for i in vowels:\n",
        "      str = str.replace(i, K)\n",
        "    return str\n",
        "\n",
        "input = \"Hello python world\"\n",
        "K = \"#\"\n",
        "print(\"Given String:\", input)\n",
        "print(\"Given Specified Character:\", K)\n",
        "print(\"After replacing vowels with the specified character:\", replaceVowels(input, K))"
      ],
      "metadata": {
        "colab": {
          "base_uri": "https://localhost:8080/"
        },
        "id": "KlG--CK0sTFj",
        "outputId": "c35ac69e-0a6d-4d04-db7a-393b8b978066"
      },
      "execution_count": null,
      "outputs": [
        {
          "output_type": "stream",
          "name": "stdout",
          "text": [
            "Given String: Hello python world\n",
            "Given Specified Character: #\n",
            "After replacing vowels with the specified character: H#ll# pyth#n w#rld\n"
          ]
        }
      ]
    },
    {
      "cell_type": "code",
      "source": [
        "#4 Write a function that calculates the factorial of a number recursively.\n",
        "def factorial(n):\n",
        "      \n",
        "    if n == 0:\n",
        "        return 1\n",
        "     \n",
        "    return n * factorial(n-1)\n",
        "  \n",
        "num = 5;\n",
        "print(\"Factorial of\", num, \"is\",\n",
        "factorial(num))"
      ],
      "metadata": {
        "colab": {
          "base_uri": "https://localhost:8080/"
        },
        "id": "kddROsM1s895",
        "outputId": "375f7712-fb4d-4668-aa41-c5a74ff28a07"
      },
      "execution_count": null,
      "outputs": [
        {
          "output_type": "stream",
          "name": "stdout",
          "text": [
            "Factorial of 5 is 120\n"
          ]
        }
      ]
    },
    {
      "cell_type": "code",
      "source": [
        "#5 Hamming distance is the number of characters that differ between two strings.\n",
        "def hammingDist(str1, str2):\n",
        "    i = 0\n",
        "    count = 0\n",
        " \n",
        "    while(i < len(str1)):\n",
        "        if(str1[i] != str2[i]):\n",
        "            count += 1\n",
        "        i += 1\n",
        "    return count\n",
        " \n",
        "\n",
        "str1 = \"abbcdde\"\n",
        "str2 = \"cddefgg\"\n",
        "print(hammingDist(str1, str2))\n",
        " "
      ],
      "metadata": {
        "colab": {
          "base_uri": "https://localhost:8080/"
        },
        "id": "Yfm67h0dtWVa",
        "outputId": "d549fada-38de-407b-a8f3-7d41aa5e2785"
      },
      "execution_count": null,
      "outputs": [
        {
          "output_type": "stream",
          "name": "stdout",
          "text": [
            "7\n"
          ]
        }
      ]
    },
    {
      "cell_type": "markdown",
      "source": [
        "#Section B"
      ],
      "metadata": {
        "id": "BjV4rVsdt9IH"
      }
    },
    {
      "cell_type": "code",
      "source": [
        "#1 Create a function that takes a list of non-negative integers and strings and return a new list\n",
        "#without the strings.\n",
        "l = [46,24,'a','b','asfg',124]\n",
        "\n",
        "def filter_list(l):\n",
        "    new_list = []\n",
        "    for x in l:\n",
        "        if type(x) == int:\n",
        "            new_list.append(x)\n",
        "    return new_list\n",
        "\n",
        "print(filter_list(l))"
      ],
      "metadata": {
        "colab": {
          "base_uri": "https://localhost:8080/"
        },
        "id": "I0NJ9jo_t6HP",
        "outputId": "53cb2962-fc9c-4f88-e936-101e13bf8fc1"
      },
      "execution_count": null,
      "outputs": [
        {
          "output_type": "stream",
          "name": "stdout",
          "text": [
            "[46, 24, 124]\n"
          ]
        }
      ]
    },
    {
      "cell_type": "code",
      "source": [
        "#2 The \"Reverser\" takes a string as input and returns that string in reverse order, with the\n",
        "#opposite case.\n",
        "def reverse(str):\n",
        "    str = str[::-1]\n",
        "    return str.swapcase()\n",
        "\n",
        "reverse('Hello World')"
      ],
      "metadata": {
        "colab": {
          "base_uri": "https://localhost:8080/",
          "height": 36
        },
        "id": "mfkymSnyvIrg",
        "outputId": "0979be12-94c2-4b52-e752-ab8edf3baa1e"
      },
      "execution_count": null,
      "outputs": [
        {
          "output_type": "execute_result",
          "data": {
            "text/plain": [
              "'DLROw OLLEh'"
            ],
            "application/vnd.google.colaboratory.intrinsic+json": {
              "type": "string"
            }
          },
          "metadata": {},
          "execution_count": 17
        }
      ]
    },
    {
      "cell_type": "code",
      "source": [
        "#4\n",
        "def recur_factorial(n):\n",
        "   if n == 1:\n",
        "       return n\n",
        "   else:\n",
        "       return n*recur_factorial(n-1)\n",
        "\n",
        "num = int(input(\"Enter the number : \"))\n",
        "\n",
        "\n",
        "if num < 0:\n",
        "   print(\"Sorry, factorial does not exist for negative numbers\")\n",
        "elif num == 0:\n",
        "   print(\"The factorial of 0 is 1\")\n",
        "else:\n",
        "   print(\"The factorial of\", num, \"is\", recur_factorial(num))\n"
      ],
      "metadata": {
        "id": "gxT8pdB7xetb"
      },
      "execution_count": 47,
      "outputs": []
    },
    {
      "cell_type": "code",
      "source": [
        "#5 Write a function that moves all elements of one type to the end of the list.\n",
        "def move_end(array, toMove):\n",
        "    i = 0\n",
        "    s = len(array) - 1\n",
        "    while (i < s):\n",
        "        while (i < s and array[s] == toMove):\n",
        "            s-=1\n",
        "  \n",
        "        if (array[i] == toMove):\n",
        "            array[i], array[s] = array[s] , array[i]\n",
        "        i += 1\n",
        "    return array\n",
        "\n",
        "arr = ['v', 'd', 'v', 'a' ,'v']\n",
        "k = 'v'\n",
        "ans = move_end(arr, k)\n",
        "for i in range(len(arr)):\n",
        "    print(ans[i] ,end= \" \")"
      ],
      "metadata": {
        "colab": {
          "base_uri": "https://localhost:8080/"
        },
        "id": "3mHkw3nbxiC4",
        "outputId": "29d719f4-82b2-40b1-af8f-1a9cfa1eed12"
      },
      "execution_count": null,
      "outputs": [
        {
          "output_type": "stream",
          "name": "stdout",
          "text": [
            "a d v v v "
          ]
        }
      ]
    },
    {
      "cell_type": "markdown",
      "source": [
        "#Section C"
      ],
      "metadata": {
        "id": "ItwTww6ix-fb"
      }
    },
    {
      "cell_type": "code",
      "source": [
        "#1 Create a function that takes a string and returns a string in which each character is repeated\n",
        "#once.\n",
        "def multichar(text, n):\n",
        "    return ''.join([x * n for x in text])\n",
        "multichar(\"Anuj\",2)"
      ],
      "metadata": {
        "colab": {
          "base_uri": "https://localhost:8080/",
          "height": 36
        },
        "id": "vOUhP2P_x-Ao",
        "outputId": "032fc806-9b7b-4c87-a632-931e0ef64eb3"
      },
      "execution_count": null,
      "outputs": [
        {
          "output_type": "execute_result",
          "data": {
            "text/plain": [
              "'AAnnuujj'"
            ],
            "application/vnd.google.colaboratory.intrinsic+json": {
              "type": "string"
            }
          },
          "metadata": {},
          "execution_count": 30
        }
      ]
    },
    {
      "cell_type": "code",
      "source": [
        "#2 Create a function that reverses a boolean value and returns the string &quot;boolean expected&quot;\n",
        "#if another variable type is given.\n",
        "def reverse(arg):\n",
        "\tif isinstance(arg, bool):\n",
        "\t\treturn not arg\n",
        "\telse:\n",
        "\t\treturn('boolean expected')\n",
        "\n",
        "def reverse(arg=None):\n",
        "\treturn not arg if type(arg) == bool else \"boolean expected\"\n",
        "\n",
        "print(reverse(True)) \n",
        "print(reverse(False)) \n",
        "print(reverse(0)) \n",
        "print(reverse(None))"
      ],
      "metadata": {
        "colab": {
          "base_uri": "https://localhost:8080/"
        },
        "id": "p0GVUemiyck_",
        "outputId": "26501d1d-d71c-4558-a5b6-c86d051209d5"
      },
      "execution_count": null,
      "outputs": [
        {
          "output_type": "stream",
          "name": "stdout",
          "text": [
            "False\n",
            "True\n",
            "boolean expected\n",
            "boolean expected\n"
          ]
        }
      ]
    },
    {
      "cell_type": "code",
      "source": [
        "#3 Create a function that returns the thickness (in meters) of a piece of paper after folding it n\n",
        "#number of times. The paper starts off with a thickness of 0.5mm.\n",
        "def fn(a):\n",
        "    res = 0.5\n",
        "    for i in range(a):\n",
        "        res *= 2\n",
        "    \n",
        "    return res / 1000 \n",
        "fn(1)"
      ],
      "metadata": {
        "colab": {
          "base_uri": "https://localhost:8080/"
        },
        "id": "LQ0WpBVGyvSQ",
        "outputId": "f0c90267-4a03-4d66-f104-567aa4045026"
      },
      "execution_count": null,
      "outputs": [
        {
          "output_type": "execute_result",
          "data": {
            "text/plain": [
              "0.001"
            ]
          },
          "metadata": {},
          "execution_count": 32
        }
      ]
    },
    {
      "cell_type": "code",
      "source": [
        "#4 Create a function that takes a single string as argument and returns an ordered list containing\n",
        "#the indices of all capital letters in the string.\n",
        "def index_of_cap(word):\n",
        "    indices = []\n",
        "    for i in range(len(word)):\n",
        "        if word[i].isupper():\n",
        "             indices.append(i)\n",
        "    return indices\n",
        "\n",
        "print(index_of_cap('aFaFJfbf'))\n",
        "print(index_of_cap('eDaBiT'))\n",
        "print(index_of_cap('eQuINoX'))"
      ],
      "metadata": {
        "colab": {
          "base_uri": "https://localhost:8080/"
        },
        "id": "I17PAphGzGuf",
        "outputId": "fc7f8291-7f41-4924-a703-df25821053ab"
      },
      "execution_count": null,
      "outputs": [
        {
          "output_type": "stream",
          "name": "stdout",
          "text": [
            "[1, 3, 4]\n",
            "[1, 3, 5]\n",
            "[1, 3, 4, 6]\n"
          ]
        }
      ]
    },
    {
      "cell_type": "code",
      "source": [
        "#5 Using list comprehensions, create a function that finds all even numbers from 1 to the given\n",
        "#number.\n",
        "listl=[i for i in range (10) if(i%2==0)]\n",
        "\n",
        "print(listl)"
      ],
      "metadata": {
        "id": "8nHz004zzw3N",
        "colab": {
          "base_uri": "https://localhost:8080/"
        },
        "outputId": "cd572c5c-8127-465b-f0f9-1d39588e9f9d"
      },
      "execution_count": 36,
      "outputs": [
        {
          "output_type": "stream",
          "name": "stdout",
          "text": [
            "[0, 2, 4, 6, 8]\n"
          ]
        }
      ]
    },
    {
      "cell_type": "markdown",
      "source": [
        "#Section D"
      ],
      "metadata": {
        "id": "YmRu2tsD1Npr"
      }
    },
    {
      "cell_type": "code",
      "source": [
        "#1 Create a function that takes a list of strings and integers, and filters out the list so that it\n",
        "#returns a list of integers only.\n",
        "l = [30,10,'shdghesf','bjgrkd']\n",
        "output = [x for x in l if type(x) != str]\n",
        "print(output)"
      ],
      "metadata": {
        "colab": {
          "base_uri": "https://localhost:8080/"
        },
        "id": "hz0547l11TUZ",
        "outputId": "bc57cde3-2b5c-4325-fc21-c43e7baa5c62"
      },
      "execution_count": 37,
      "outputs": [
        {
          "output_type": "stream",
          "name": "stdout",
          "text": [
            "[30, 10]\n"
          ]
        }
      ]
    },
    {
      "cell_type": "code",
      "source": [
        "#2 Given a list of numbers, create a function which returns the list but with each elements\n",
        "#index in the list added to itself. This means you add 0 to the number at index 0, add 1 to the\n",
        "#number at index 1, etc...\n",
        "def add_index(lst):\n",
        "    ind = 0\n",
        "    index = []\n",
        "    for i in lst:\n",
        "        index.append(lst.index(i,ind) + i)\n",
        "        ind+=1\n",
        "    return index\n",
        "\n",
        "add_index([1, 2, 3, 4, 5])"
      ],
      "metadata": {
        "colab": {
          "base_uri": "https://localhost:8080/"
        },
        "id": "dijYJxA911ou",
        "outputId": "140489ab-07f1-4383-e770-cae0bbd9c3b6"
      },
      "execution_count": 38,
      "outputs": [
        {
          "output_type": "execute_result",
          "data": {
            "text/plain": [
              "[1, 3, 5, 7, 9]"
            ]
          },
          "metadata": {},
          "execution_count": 38
        }
      ]
    },
    {
      "cell_type": "code",
      "source": [
        "#3 Create a function that takes the height and radius of a cone as arguments and returns the\n",
        "#volume of the cone rounded to the nearest hundredth. See the resources tab for the formula.\n",
        "import math\n",
        "pi = math.pi\n",
        "def volume(r, h):\n",
        "    return (1 / 3) * pi * r * r * h\n",
        "def surfacearea(r, s):\n",
        "    return pi * r * s + pi * r * r\n",
        "radius = float(5)\n",
        "height = float(4)\n",
        "slat_height = float(5)\n",
        "print( \"Volume Of Cone : \", volume(radius, height) )\n",
        "print( \"Surface Area Of Cone : \", surfacearea(radius, slat_height) )"
      ],
      "metadata": {
        "colab": {
          "base_uri": "https://localhost:8080/"
        },
        "id": "wkiDZGkv29Mf",
        "outputId": "05d2d010-a004-4dff-97ae-d72a47c22945"
      },
      "execution_count": 44,
      "outputs": [
        {
          "output_type": "stream",
          "name": "stdout",
          "text": [
            "Volume Of Cone :  104.71975511965977\n",
            "Surface Area Of Cone :  157.07963267948966\n"
          ]
        }
      ]
    },
    {
      "cell_type": "code",
      "source": [
        "#4 \n",
        "def triangle(n):\n",
        "    return n*(n+1)*0.5\n",
        "\n",
        "n = int(input('Enter the trinalge number :'))\n",
        "print(\"The {}th triangle has {} dots \".format(n,int(triangle(n))))\n",
        "\n",
        "triangle(1)"
      ],
      "metadata": {
        "id": "PRIb20SR3FdA"
      },
      "execution_count": 43,
      "outputs": []
    },
    {
      "cell_type": "code",
      "source": [
        "#5 Create a function that takes a list of numbers between 1 and 10 (excluding one number) and\n",
        "#returns the missing number.\n",
        "def missing_num(lst):\n",
        "    total = sum([x for x in range(11)])\n",
        "    sum_of_list = sum(lst)\n",
        "    return total - sum_of_list\n",
        "\n",
        "print(missing_num([1, 2, 3, 4, 6, 7, 8, 9, 10]))"
      ],
      "metadata": {
        "colab": {
          "base_uri": "https://localhost:8080/"
        },
        "id": "MLb0-YgZ3jpz",
        "outputId": "de1e0545-e7ba-4d29-c616-5a4e717a5ee5"
      },
      "execution_count": 45,
      "outputs": [
        {
          "output_type": "stream",
          "name": "stdout",
          "text": [
            "5\n"
          ]
        }
      ]
    }
  ]
}